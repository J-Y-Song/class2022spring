{
  "nbformat": 4,
  "nbformat_minor": 0,
  "metadata": {
    "colab": {
      "name": "20220425.ipynb",
      "provenance": [],
      "authorship_tag": "ABX9TyObEENxUZGo/QH5prK3WkLq",
      "include_colab_link": true
    },
    "kernelspec": {
      "name": "python3",
      "display_name": "Python 3"
    },
    "language_info": {
      "name": "python"
    }
  },
  "cells": [
    {
      "cell_type": "markdown",
      "metadata": {
        "id": "view-in-github",
        "colab_type": "text"
      },
      "source": [
        "<a href=\"https://colab.research.google.com/github/J-Y-Song/class2022spring/blob/main/20220425.ipynb\" target=\"_parent\"><img src=\"https://colab.research.google.com/assets/colab-badge.svg\" alt=\"Open In Colab\"/></a>"
      ]
    },
    {
      "cell_type": "code",
      "execution_count": null,
      "metadata": {
        "id": "B_r64m7dsGwi"
      },
      "outputs": [],
      "source": [
        "RMS - Root Mean Square\n",
        "measuring intesnsity\n",
        "\n",
        "- 평균값, 중앙값, 최빈값 등과 같이 어떤 집단의 특징이나 경향을 나타내는 대표값의 일종 \n",
        "- 평균을 구하는 방법 중의 하나로서, 원래의 값을 제곱한 값들의 평균값에 루트를 씌운 값을 계산하는 공식\n",
        "- 원래의 값의 평균값과 매우 유사한 성격의 값\n",
        "- 변수들이 - 과 + 을 골고루 왔다 갔다 할 때 그 정도를 알아볼 때 유용\n",
        " : sine함수처럼 진폭이 일정하고 부호만 반대인 함수의 평균값을 계산해보면 0이 되어버려서 올바른 평균값이 아니기 때문에 이렇게 사용하기 적합하지 않은 평균값 대신에 RMS를 사용\n",
        "- RMS의 error 통해 정밀도의 정도 (intensity)를 알아내기 가능\n",
        "\n",
        "Auto Correlation \n",
        "measuring pitch\n",
        "\n",
        "- 시간 또는 공간적으로 연속된 일련의 관측치들 간에 존재하는 상관관계 \n",
        "- 시계열 데이터에 내재하는 시점간의 상관을 의미\n",
        "- 신호의 시변(time-variant)특성이 어떤가를 보여줌\n",
        "- 시계열자료(time series data)에서는 현재의 상태가 과거와 미래의 상태에 밀접한 연관을 지니는 경우가 많음\n",
        "- 자기상관(autocorrelation) 또는 계열상관(series correlation)이 있으며, 자기상관은 '양의 자기상관'과 '음의 자기상관'이 존재\n",
        "- statsmodel 라이브러리가 계산 진행\n",
        ": Get Time Series Data/ Inspect & Clean Data/ Visualize Data/ Perform Autocorrelation & Visualization\n",
        "- -1에서 1의 사이에서 correlation 값이 나타남 ; correlation 높을 경우 미래의 값 예측 가능\n",
        "- pitch를 추정할 때 사용"
      ]
    }
  ]
}